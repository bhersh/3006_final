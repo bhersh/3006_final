{
 "cells": [
  {
   "cell_type": "markdown",
   "metadata": {},
   "source": [
    "# Introduction\n",
    "The COVID-19 pandemic has altered much in the daily lives of millions of people.  News reports have reported people leaving metro areas for suburbs and rural areas.  This project seeks to identify changes in housing market data and investigates correlations with  covid prevalence.\n",
    "\n",
    "This project relies on data from the New York Times' COVID data set and the Federal Housing Finance Agency as our reliable data sources."
   ]
  },
  {
   "cell_type": "code",
   "execution_count": null,
   "metadata": {},
   "outputs": [],
   "source": []
  }
 ],
 "metadata": {
  "kernelspec": {
   "display_name": "Python 3",
   "language": "python",
   "name": "python3"
  },
  "language_info": {
   "codemirror_mode": {
    "name": "ipython",
    "version": 3
   },
   "file_extension": ".py",
   "mimetype": "text/x-python",
   "name": "python",
   "nbconvert_exporter": "python",
   "pygments_lexer": "ipython3",
   "version": "3.8.5"
  }
 },
 "nbformat": 4,
 "nbformat_minor": 4
}
