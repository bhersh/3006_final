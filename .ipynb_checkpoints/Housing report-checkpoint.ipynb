{
 "cells": [
  {
   "cell_type": "markdown",
   "metadata": {},
   "source": [
    "# Introduction\n",
    "\n",
    "The COVID-19 pandemic has altered much in the daily lives of millions of people.  News reports have reported people leaving high density metro areas for suburbs and rural areas.  This project seeks to identify changes in housing market data since March 2020 and investigates correlations with covid prevalence.\n",
    "\n",
    "This project relies on data from the New York Times' COVID data set and the Federal Housing Finance Agency (FHFA) as our reliable data sources.\n",
    "\n"
   ]
  },
  {
   "cell_type": "markdown",
   "metadata": {},
   "source": [
    "**Housing Market Level Changes**\n",
    "\n",
    "The FHFA reports a Housing Price Index (HPI) for every state and most metropolitan areas in the US every quarter.  Additionally, they report an HPI for the non-metro area for each state. \n",
    "\n",
    "To begin our analysis of the housing market, we need a good measure of change in the index for each reported area over the time since the start of the COVID pandemic.  Since our housing data is quarterly, and policy interventions began in mid-March 2020 we will look at changes in the housing market from Q2 2020 to the most recent data in the data set."
   ]
  },
  {
   "cell_type": "code",
   "execution_count": 11,
   "metadata": {},
   "outputs": [
    {
     "name": "stderr",
     "output_type": "stream",
     "text": [
      "2021-03-01 20:13:02,292 - root - INFO - Data file found in directory\n"
     ]
    },
    {
     "data": {
      "image/png": "[encoded data removed]",
      "text/plain": [
       "<Figure size 432x288 with 1 Axes>"
      ]
     },
     "metadata": {
      "needs_background": "light"
     },
     "output_type": "display_data"
    }
   ],
   "source": [
    "import housing\n",
    "import numpy as np\n",
    "import matplotlib.pyplot as plt\n",
    "\n",
    "o = housing.HousingData()\n",
    "state_change = housing.yoy_change(o.state_data, 2020)\n",
    "d_ch = []\n",
    "for i in state_change:\n",
    "    d_ch.append(i[5])\n",
    "\n",
    "\n",
    "d = d_ch\n",
    "plt.hist(d, bins =10)\n",
    "plt.title(\"Histogram of Year Over Year Change in HPI at a State level\")\n",
    "#ax.set_xticks()\n",
    "\n",
    "plt.show()\n"
   ]
  },
  {
   "cell_type": "code",
   "execution_count": null,
   "metadata": {},
   "outputs": [],
   "source": [
    "msa_cange = yoy_change(o.metro_data, 2020)\n"
   ]
  }
 ],
 "metadata": {
  "kernelspec": {
   "display_name": "Python 3",
   "language": "python",
   "name": "python3"
  },
  "language_info": {
   "codemirror_mode": {
    "name": "ipython",
    "version": 3
   },
   "file_extension": ".py",
   "mimetype": "text/x-python",
   "name": "python",
   "nbconvert_exporter": "python",
   "pygments_lexer": "ipython3",
   "version": "3.8.5"
  }
 },
 "nbformat": 4,
 "nbformat_minor": 4
}
